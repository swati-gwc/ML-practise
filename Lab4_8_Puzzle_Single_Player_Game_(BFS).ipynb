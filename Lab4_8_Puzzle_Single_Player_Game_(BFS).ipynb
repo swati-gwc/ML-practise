{
 "cells": [
  {
   "cell_type": "markdown",
   "metadata": {
    "colab_type": "text",
    "id": "h-47G4nF1lBG"
   },
   "source": [
    "<h1>Lab-4: 8 Puzzle Single Player Game (Breadth First Search)</h1>"
   ]
  },
  {
   "cell_type": "markdown",
   "metadata": {
    "colab_type": "text",
    "id": "HTDnbYRR6FrN"
   },
   "source": [
    "<h2>Algorithm Review</h2>\n",
    "The searches begin by visiting the root node of the search tree, given by the initial state. Among other book-keeping details, three major things happen in sequence in order to visit a node:\n",
    "\n",
    "1.   First, we remove a node from the frontier set.\n",
    "2.   Second, we check the state against the goal state to determine if a solution has been found.\n",
    "3.   Finally, if the result of the check is negative, we then expand the node. To expand a given node, we generate successor nodes adjacent to the current node, and add them to the frontier set. Note that if these successor nodes are already in the frontier, or have already been visited, then they should not be added to the frontier again.\n",
    "\n"
   ]
  },
  {
   "cell_type": "code",
   "execution_count": 1,
   "metadata": {
    "colab": {},
    "colab_type": "code",
    "id": "rcBUwpzpAcr-"
   },
   "outputs": [],
   "source": [
    "from time import time\n",
    "from queue import Queue\n"
   ]
  },
  {
   "cell_type": "code",
   "execution_count": 2,
   "metadata": {
    "colab": {},
    "colab_type": "code",
    "id": "bBHJzbPW6pH-"
   },
   "outputs": [],
   "source": [
    "class Puzzle:\n",
    "    goal_state=[1,2,3,8,0,4,7,6,5]\n",
    "    num_of_instances=0\n",
    "    def __init__(self,state,parent,action):\n",
    "        self.parent=parent\n",
    "        self.state=state\n",
    "        self.action=action\n",
    "        Puzzle.num_of_instances+=1\n",
    "\n",
    "    def __str__(self):\n",
    "        return str(self.state[0:3])+'\\n'+str(self.state[3:6])+'\\n'+str(self.state[6:9])\n",
    "\n",
    "    def goal_test(self):\n",
    "        if self.state == self.goal_state:\n",
    "            return True\n",
    "        return False\n",
    "\n",
    "    @staticmethod\n",
    "    def find_legal_actions(i,j):\n",
    "        legal_action = ['U', 'D', 'L', 'R']\n",
    "        if i == 0:  # up is disable\n",
    "            legal_action.remove('U')\n",
    "        elif i == 2:  # down is disable\n",
    "            legal_action.remove('D')\n",
    "        if j == 0:\n",
    "            legal_action.remove('L')\n",
    "        elif j == 2:\n",
    "            legal_action.remove('R')\n",
    "        return legal_action\n",
    "\n",
    "    def generate_child(self):\n",
    "        children=[]\n",
    "        x = self.state.index(0)\n",
    "        i = int(x / 3)\n",
    "        j = int(x % 3)\n",
    "        legal_actions=self.find_legal_actions(i,j)\n",
    "\n",
    "        for action in legal_actions:\n",
    "            new_state = self.state.copy()\n",
    "            if action == 'U':\n",
    "                new_state[x], new_state[x-3] = new_state[x-3], new_state[x]\n",
    "            elif action == 'D':\n",
    "                new_state[x], new_state[x+3] = new_state[x+3], new_state[x]\n",
    "            elif action == 'L':\n",
    "                new_state[x], new_state[x-1] = new_state[x-1], new_state[x]\n",
    "            elif action == 'R':\n",
    "                new_state[x], new_state[x+1] = new_state[x+1], new_state[x]\n",
    "            children.append(Puzzle(new_state,self,action))\n",
    "        return children\n",
    "\n",
    "    def find_solution(self):\n",
    "        solution = []\n",
    "        solution.append(self.action)\n",
    "        path = self\n",
    "        while path.parent != None:\n",
    "            path = path.parent\n",
    "            solution.append(path.action)\n",
    "        solution = solution[:-1]\n",
    "        solution.reverse()\n",
    "        return solution"
   ]
  },
  {
   "cell_type": "code",
   "execution_count": 3,
   "metadata": {
    "colab": {},
    "colab_type": "code",
    "id": "WMcheK0f93H6"
   },
   "outputs": [],
   "source": [
    "def breadth_first_search(initial_state):\n",
    "    start_node = Puzzle(initial_state, None, None)\n",
    "    if start_node.goal_test():\n",
    "        return start_node.find_solution()\n",
    "    q = Queue()\n",
    "    q.put(start_node)\n",
    "    explored=[]\n",
    "    while not(q.empty()):\n",
    "        node=q.get()\n",
    "        explored.append(node.state)\n",
    "        children=node.generate_child()\n",
    "        for child in children:\n",
    "            if child.state not in explored:\n",
    "                if child.goal_test():\n",
    "                    return child.find_solution()\n",
    "                q.put(child)\n",
    "    return"
   ]
  },
  {
   "cell_type": "code",
   "execution_count": 4,
   "metadata": {
    "colab": {
     "base_uri": "https://localhost:8080/",
     "height": 238
    },
    "colab_type": "code",
    "id": "YY1EiLOk95Du",
    "outputId": "570ac2b4-93f5-47bb-92b1-39a2a30cf2ac"
   },
   "outputs": [
    {
     "name": "stdout",
     "output_type": "stream",
     "text": [
      "BFS: ['U', 'R', 'U', 'L', 'D']\n",
      "space: 66\n",
      "time: 0.0009672641754150391\n",
      "\n",
      "BFS: ['U', 'R', 'R', 'D', 'L', 'L', 'U', 'R', 'D']\n",
      "space: 591\n",
      "time: 0.006528615951538086\n",
      "\n",
      "BFS: ['R', 'U', 'L', 'U', 'R', 'R', 'D', 'L', 'L', 'U', 'R', 'D']\n",
      "space: 2956\n",
      "time: 0.06784963607788086\n",
      "\n",
      "------------------------------------------\n"
     ]
    }
   ],
   "source": [
    "#Start executing the 8-puzzle with setting up the initial state\n",
    "#Here we have considered 3 initial state intitalized using state variable\n",
    "state=[[1, 3, 4,\n",
    "        8, 6, 2,\n",
    "        7, 0, 5],\n",
    "\n",
    "       [2, 8, 1,\n",
    "        0, 4, 3,\n",
    "        7, 6, 5],\n",
    "\n",
    "       [2, 8, 1,\n",
    "        4, 6, 3,\n",
    "        0, 7, 5]]\n",
    "\n",
    "for i in range(0,3):\n",
    "    Puzzle.num_of_instances=0\n",
    "    t0=time()\n",
    "    bfs=breadth_first_search(state[i])\n",
    "    t1=time()-t0\n",
    "    print('BFS:', bfs)\n",
    "    print('space:',Puzzle.num_of_instances)\n",
    "    \n",
    "    print('time:',t1)\n",
    "    print()\n",
    "print('------------------------------------------')"
   ]
  },
  {
   "cell_type": "code",
   "execution_count": null,
   "metadata": {
    "colab": {},
    "colab_type": "code",
    "id": "ii-7pr4I-fDu"
   },
   "outputs": [],
   "source": []
  }
 ],
 "metadata": {
  "colab": {
   "collapsed_sections": [],
   "name": "Solution_Lab2_8 Puzzle Single Player Game (BFS).ipynb",
   "provenance": []
  },
  "kernelspec": {
   "display_name": "Python 3",
   "language": "python",
   "name": "python3"
  },
  "language_info": {
   "codemirror_mode": {
    "name": "ipython",
    "version": 3
   },
   "file_extension": ".py",
   "mimetype": "text/x-python",
   "name": "python",
   "nbconvert_exporter": "python",
   "pygments_lexer": "ipython3",
   "version": "3.7.6"
  }
 },
 "nbformat": 4,
 "nbformat_minor": 1
}
