{
 "cells": [
  {
   "cell_type": "markdown",
   "metadata": {},
   "source": [
    "# LAB- 12: Write a python script to implement Bag of words and TF-IDF"
   ]
  },
  {
   "cell_type": "markdown",
   "metadata": {},
   "source": [
    "# BAG OF WORDS"
   ]
  },
  {
   "cell_type": "code",
   "execution_count": 20,
   "metadata": {},
   "outputs": [
    {
     "name": "stdout",
     "output_type": "stream",
     "text": [
      "Requirement already satisfied: docx2txt in c:\\users\\hp\\anaconda3\\lib\\site-packages (0.8)Note: you may need to restart the kernel to use updated packages.\n",
      "\n"
     ]
    }
   ],
   "source": [
    "pip install docx2txt"
   ]
  },
  {
   "cell_type": "code",
   "execution_count": 21,
   "metadata": {},
   "outputs": [
    {
     "name": "stdout",
     "output_type": "stream",
     "text": [
      "['Planet provides daily satellite data that helps businesses, governments, researchers, and journalists understand the physical world and take action', '']\n"
     ]
    }
   ],
   "source": [
    "import docx2txt\n",
    "import re\n",
    "documents=docx2txt.process('word.docx')\n",
    "doclist = [ line for line in documents ]\n",
    "docstr = '' . join(doclist)\n",
    "sentences = re.split(r'[.!?]', docstr)\n",
    "print(sentences)"
   ]
  },
  {
   "cell_type": "code",
   "execution_count": 22,
   "metadata": {},
   "outputs": [
    {
     "name": "stderr",
     "output_type": "stream",
     "text": [
      "C:\\Users\\hp\\anaconda3\\lib\\site-packages\\sklearn\\utils\\validation.py:70: FutureWarning: Pass input=['Planet provides daily satellite data that helps businesses, governments, researchers, and journalists understand the physical world and take action', ''] as keyword args. From version 1.0 (renaming of 0.25) passing these as positional arguments will result in an error\n",
      "  warnings.warn(f\"Pass {args_msg} as keyword args. From version \"\n"
     ]
    }
   ],
   "source": [
    "from sklearn.feature_extraction.text import CountVectorizer\n",
    "count_vector = CountVectorizer(sentences)"
   ]
  },
  {
   "cell_type": "code",
   "execution_count": 23,
   "metadata": {},
   "outputs": [
    {
     "name": "stdout",
     "output_type": "stream",
     "text": [
      "CountVectorizer(input=['Planet provides daily satellite data that helps '\n",
      "                       'businesses, governments, researchers, and journalists '\n",
      "                       'understand the physical world and take action',\n",
      "                       ''])\n"
     ]
    }
   ],
   "source": [
    "print(count_vector)"
   ]
  },
  {
   "cell_type": "code",
   "execution_count": 24,
   "metadata": {
    "scrolled": true
   },
   "outputs": [
    {
     "data": {
      "text/plain": [
       "['action',\n",
       " 'and',\n",
       " 'businesses',\n",
       " 'daily',\n",
       " 'data',\n",
       " 'governments',\n",
       " 'helps',\n",
       " 'journalists',\n",
       " 'physical',\n",
       " 'planet',\n",
       " 'provides',\n",
       " 'researchers',\n",
       " 'satellite',\n",
       " 'take',\n",
       " 'that',\n",
       " 'the',\n",
       " 'understand',\n",
       " 'world']"
      ]
     },
     "execution_count": 24,
     "metadata": {},
     "output_type": "execute_result"
    }
   ],
   "source": [
    "count_vector.fit(sentences)\n",
    "count_vector.get_feature_names()"
   ]
  },
  {
   "cell_type": "code",
   "execution_count": 25,
   "metadata": {},
   "outputs": [
    {
     "data": {
      "text/plain": [
       "array([[1, 2, 1, 1, 1, 1, 1, 1, 1, 1, 1, 1, 1, 1, 1, 1, 1, 1],\n",
       "       [0, 0, 0, 0, 0, 0, 0, 0, 0, 0, 0, 0, 0, 0, 0, 0, 0, 0]],\n",
       "      dtype=int64)"
      ]
     },
     "execution_count": 25,
     "metadata": {},
     "output_type": "execute_result"
    }
   ],
   "source": [
    "doc_array = count_vector.transform(sentences).toarray()\n",
    "doc_array"
   ]
  },
  {
   "cell_type": "code",
   "execution_count": 26,
   "metadata": {},
   "outputs": [
    {
     "data": {
      "text/html": [
       "<div>\n",
       "<style scoped>\n",
       "    .dataframe tbody tr th:only-of-type {\n",
       "        vertical-align: middle;\n",
       "    }\n",
       "\n",
       "    .dataframe tbody tr th {\n",
       "        vertical-align: top;\n",
       "    }\n",
       "\n",
       "    .dataframe thead th {\n",
       "        text-align: right;\n",
       "    }\n",
       "</style>\n",
       "<table border=\"1\" class=\"dataframe\">\n",
       "  <thead>\n",
       "    <tr style=\"text-align: right;\">\n",
       "      <th></th>\n",
       "      <th>action</th>\n",
       "      <th>and</th>\n",
       "      <th>businesses</th>\n",
       "      <th>daily</th>\n",
       "      <th>data</th>\n",
       "      <th>governments</th>\n",
       "      <th>helps</th>\n",
       "      <th>journalists</th>\n",
       "      <th>physical</th>\n",
       "      <th>planet</th>\n",
       "      <th>provides</th>\n",
       "      <th>researchers</th>\n",
       "      <th>satellite</th>\n",
       "      <th>take</th>\n",
       "      <th>that</th>\n",
       "      <th>the</th>\n",
       "      <th>understand</th>\n",
       "      <th>world</th>\n",
       "    </tr>\n",
       "  </thead>\n",
       "  <tbody>\n",
       "    <tr>\n",
       "      <th>Planet provides daily satellite data that helps businesses, governments, researchers, and journalists understand the physical world and take action</th>\n",
       "      <td>1</td>\n",
       "      <td>2</td>\n",
       "      <td>1</td>\n",
       "      <td>1</td>\n",
       "      <td>1</td>\n",
       "      <td>1</td>\n",
       "      <td>1</td>\n",
       "      <td>1</td>\n",
       "      <td>1</td>\n",
       "      <td>1</td>\n",
       "      <td>1</td>\n",
       "      <td>1</td>\n",
       "      <td>1</td>\n",
       "      <td>1</td>\n",
       "      <td>1</td>\n",
       "      <td>1</td>\n",
       "      <td>1</td>\n",
       "      <td>1</td>\n",
       "    </tr>\n",
       "    <tr>\n",
       "      <th></th>\n",
       "      <td>0</td>\n",
       "      <td>0</td>\n",
       "      <td>0</td>\n",
       "      <td>0</td>\n",
       "      <td>0</td>\n",
       "      <td>0</td>\n",
       "      <td>0</td>\n",
       "      <td>0</td>\n",
       "      <td>0</td>\n",
       "      <td>0</td>\n",
       "      <td>0</td>\n",
       "      <td>0</td>\n",
       "      <td>0</td>\n",
       "      <td>0</td>\n",
       "      <td>0</td>\n",
       "      <td>0</td>\n",
       "      <td>0</td>\n",
       "      <td>0</td>\n",
       "    </tr>\n",
       "  </tbody>\n",
       "</table>\n",
       "</div>"
      ],
      "text/plain": [
       "                                                    action  and  businesses  \\\n",
       "Planet provides daily satellite data that helps...       1    2           1   \n",
       "                                                         0    0           0   \n",
       "\n",
       "                                                    daily  data  governments  \\\n",
       "Planet provides daily satellite data that helps...      1     1            1   \n",
       "                                                        0     0            0   \n",
       "\n",
       "                                                    helps  journalists  \\\n",
       "Planet provides daily satellite data that helps...      1            1   \n",
       "                                                        0            0   \n",
       "\n",
       "                                                    physical  planet  \\\n",
       "Planet provides daily satellite data that helps...         1       1   \n",
       "                                                           0       0   \n",
       "\n",
       "                                                    provides  researchers  \\\n",
       "Planet provides daily satellite data that helps...         1            1   \n",
       "                                                           0            0   \n",
       "\n",
       "                                                    satellite  take  that  \\\n",
       "Planet provides daily satellite data that helps...          1     1     1   \n",
       "                                                            0     0     0   \n",
       "\n",
       "                                                    the  understand  world  \n",
       "Planet provides daily satellite data that helps...    1           1      1  \n",
       "                                                      0           0      0  "
      ]
     },
     "execution_count": 26,
     "metadata": {},
     "output_type": "execute_result"
    }
   ],
   "source": [
    "import pandas as pd\n",
    "frequency_matrix = pd.DataFrame(doc_array,index=sentences,columns=count_vector.get_feature_names())\n",
    "frequency_matrix"
   ]
  },
  {
   "cell_type": "markdown",
   "metadata": {},
   "source": [
    "# TF-IDF"
   ]
  },
  {
   "cell_type": "code",
   "execution_count": 27,
   "metadata": {},
   "outputs": [],
   "source": [
    "from sklearn.feature_extraction.text import TfidfVectorizer\n",
    "\n",
    "vectorizer = TfidfVectorizer()"
   ]
  },
  {
   "cell_type": "code",
   "execution_count": 28,
   "metadata": {},
   "outputs": [
    {
     "name": "stdout",
     "output_type": "stream",
     "text": [
      "['action', 'and', 'businesses', 'daily', 'data', 'governments', 'helps', 'journalists', 'physical', 'planet', 'provides', 'researchers', 'satellite', 'take', 'that', 'the', 'understand', 'world']\n",
      "[[0.21821789 0.43643578 0.21821789 0.21821789 0.21821789 0.21821789\n",
      "  0.21821789 0.21821789 0.21821789 0.21821789 0.21821789 0.21821789\n",
      "  0.21821789 0.21821789 0.21821789 0.21821789 0.21821789 0.21821789]\n",
      " [0.         0.         0.         0.         0.         0.\n",
      "  0.         0.         0.         0.         0.         0.\n",
      "  0.         0.         0.         0.         0.         0.        ]]\n"
     ]
    }
   ],
   "source": [
    "X = vectorizer.fit_transform(sentences)\n",
    "\n",
    "print(vectorizer.get_feature_names())\n",
    "print(X.toarray())"
   ]
  },
  {
   "cell_type": "code",
   "execution_count": 29,
   "metadata": {},
   "outputs": [
    {
     "data": {
      "text/html": [
       "<div>\n",
       "<style scoped>\n",
       "    .dataframe tbody tr th:only-of-type {\n",
       "        vertical-align: middle;\n",
       "    }\n",
       "\n",
       "    .dataframe tbody tr th {\n",
       "        vertical-align: top;\n",
       "    }\n",
       "\n",
       "    .dataframe thead th {\n",
       "        text-align: right;\n",
       "    }\n",
       "</style>\n",
       "<table border=\"1\" class=\"dataframe\">\n",
       "  <thead>\n",
       "    <tr style=\"text-align: right;\">\n",
       "      <th></th>\n",
       "      <th>action</th>\n",
       "      <th>and</th>\n",
       "      <th>businesses</th>\n",
       "      <th>daily</th>\n",
       "      <th>data</th>\n",
       "      <th>governments</th>\n",
       "      <th>helps</th>\n",
       "      <th>journalists</th>\n",
       "      <th>physical</th>\n",
       "      <th>planet</th>\n",
       "      <th>provides</th>\n",
       "      <th>researchers</th>\n",
       "      <th>satellite</th>\n",
       "      <th>take</th>\n",
       "      <th>that</th>\n",
       "      <th>the</th>\n",
       "      <th>understand</th>\n",
       "      <th>world</th>\n",
       "    </tr>\n",
       "  </thead>\n",
       "  <tbody>\n",
       "    <tr>\n",
       "      <th>Planet provides daily satellite data that helps businesses, governments, researchers, and journalists understand the physical world and take action</th>\n",
       "      <td>0.218218</td>\n",
       "      <td>0.436436</td>\n",
       "      <td>0.218218</td>\n",
       "      <td>0.218218</td>\n",
       "      <td>0.218218</td>\n",
       "      <td>0.218218</td>\n",
       "      <td>0.218218</td>\n",
       "      <td>0.218218</td>\n",
       "      <td>0.218218</td>\n",
       "      <td>0.218218</td>\n",
       "      <td>0.218218</td>\n",
       "      <td>0.218218</td>\n",
       "      <td>0.218218</td>\n",
       "      <td>0.218218</td>\n",
       "      <td>0.218218</td>\n",
       "      <td>0.218218</td>\n",
       "      <td>0.218218</td>\n",
       "      <td>0.218218</td>\n",
       "    </tr>\n",
       "    <tr>\n",
       "      <th></th>\n",
       "      <td>0.000000</td>\n",
       "      <td>0.000000</td>\n",
       "      <td>0.000000</td>\n",
       "      <td>0.000000</td>\n",
       "      <td>0.000000</td>\n",
       "      <td>0.000000</td>\n",
       "      <td>0.000000</td>\n",
       "      <td>0.000000</td>\n",
       "      <td>0.000000</td>\n",
       "      <td>0.000000</td>\n",
       "      <td>0.000000</td>\n",
       "      <td>0.000000</td>\n",
       "      <td>0.000000</td>\n",
       "      <td>0.000000</td>\n",
       "      <td>0.000000</td>\n",
       "      <td>0.000000</td>\n",
       "      <td>0.000000</td>\n",
       "      <td>0.000000</td>\n",
       "    </tr>\n",
       "  </tbody>\n",
       "</table>\n",
       "</div>"
      ],
      "text/plain": [
       "                                                      action       and  \\\n",
       "Planet provides daily satellite data that helps...  0.218218  0.436436   \n",
       "                                                    0.000000  0.000000   \n",
       "\n",
       "                                                    businesses     daily  \\\n",
       "Planet provides daily satellite data that helps...    0.218218  0.218218   \n",
       "                                                      0.000000  0.000000   \n",
       "\n",
       "                                                        data  governments  \\\n",
       "Planet provides daily satellite data that helps...  0.218218     0.218218   \n",
       "                                                    0.000000     0.000000   \n",
       "\n",
       "                                                       helps  journalists  \\\n",
       "Planet provides daily satellite data that helps...  0.218218     0.218218   \n",
       "                                                    0.000000     0.000000   \n",
       "\n",
       "                                                    physical    planet  \\\n",
       "Planet provides daily satellite data that helps...  0.218218  0.218218   \n",
       "                                                    0.000000  0.000000   \n",
       "\n",
       "                                                    provides  researchers  \\\n",
       "Planet provides daily satellite data that helps...  0.218218     0.218218   \n",
       "                                                    0.000000     0.000000   \n",
       "\n",
       "                                                    satellite      take  \\\n",
       "Planet provides daily satellite data that helps...   0.218218  0.218218   \n",
       "                                                     0.000000  0.000000   \n",
       "\n",
       "                                                        that       the  \\\n",
       "Planet provides daily satellite data that helps...  0.218218  0.218218   \n",
       "                                                    0.000000  0.000000   \n",
       "\n",
       "                                                    understand     world  \n",
       "Planet provides daily satellite data that helps...    0.218218  0.218218  \n",
       "                                                      0.000000  0.000000  "
      ]
     },
     "execution_count": 29,
     "metadata": {},
     "output_type": "execute_result"
    }
   ],
   "source": [
    "frequency_matrix = pd.DataFrame(X.toarray(),index=sentences,columns=count_vector.get_feature_names())\n",
    "frequency_matrix"
   ]
  },
  {
   "cell_type": "code",
   "execution_count": null,
   "metadata": {},
   "outputs": [],
   "source": []
  },
  {
   "cell_type": "code",
   "execution_count": null,
   "metadata": {},
   "outputs": [],
   "source": []
  },
  {
   "cell_type": "code",
   "execution_count": null,
   "metadata": {},
   "outputs": [],
   "source": []
  }
 ],
 "metadata": {
  "kernelspec": {
   "display_name": "Python 3",
   "language": "python",
   "name": "python3"
  },
  "language_info": {
   "codemirror_mode": {
    "name": "ipython",
    "version": 3
   },
   "file_extension": ".py",
   "mimetype": "text/x-python",
   "name": "python",
   "nbconvert_exporter": "python",
   "pygments_lexer": "ipython3",
   "version": "3.7.6"
  }
 },
 "nbformat": 4,
 "nbformat_minor": 5
}
