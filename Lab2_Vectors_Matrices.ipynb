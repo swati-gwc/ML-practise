{
 "cells": [
  {
   "cell_type": "markdown",
   "metadata": {},
   "source": [
    "## LAB- 2: Write a python script for implementation of vectors, matrices operations.\n"
   ]
  },
  {
   "cell_type": "markdown",
   "metadata": {},
   "source": [
    "<b> Vectors Operations </b>"
   ]
  },
  {
   "cell_type": "code",
   "execution_count": 1,
   "metadata": {},
   "outputs": [
    {
     "name": "stdout",
     "output_type": "stream",
     "text": [
      "[1 2 3 4 5 6]\n"
     ]
    }
   ],
   "source": [
    "from numpy import array\n",
    "vector = array([1, 2, 3, 4, 5, 6])\n",
    "print(vector)"
   ]
  },
  {
   "cell_type": "code",
   "execution_count": 2,
   "metadata": {},
   "outputs": [
    {
     "name": "stdout",
     "output_type": "stream",
     "text": [
      "[1 2 3 4]\n",
      "[10 20 30 40]\n",
      "[11 22 33 44]\n"
     ]
    }
   ],
   "source": [
    "a = array([1, 2, 3, 4])\n",
    "print(a)\n",
    "b = array([10, 20, 30, 40])\n",
    "print(b)\n",
    "c = a + b\n",
    "print(c)"
   ]
  },
  {
   "cell_type": "code",
   "execution_count": 3,
   "metadata": {},
   "outputs": [
    {
     "name": "stdout",
     "output_type": "stream",
     "text": [
      "[100 200 300]\n",
      "[ 50 150 250]\n",
      "[50 50 50]\n"
     ]
    }
   ],
   "source": [
    "a = array([100, 200, 300])\n",
    "print(a)\n",
    "b = array([50, 150, 250])\n",
    "print(b)\n",
    "c = a - b\n",
    "print(c)"
   ]
  },
  {
   "cell_type": "code",
   "execution_count": 4,
   "metadata": {},
   "outputs": [
    {
     "name": "stdout",
     "output_type": "stream",
     "text": [
      "[10 20 30 40]\n",
      "[1 2 3 4]\n",
      "[ 10  40  90 160]\n"
     ]
    }
   ],
   "source": [
    "a = array([10, 20, 30, 40])\n",
    "print(a)\n",
    "b = array([1, 2, 3, 4])\n",
    "print(b)\n",
    "c = a * b\n",
    "print(c)"
   ]
  },
  {
   "cell_type": "code",
   "execution_count": 5,
   "metadata": {},
   "outputs": [
    {
     "name": "stdout",
     "output_type": "stream",
     "text": [
      "[ 50 100 150 200]\n",
      "[1 2 4 8]\n",
      "[50.  50.  37.5 25. ]\n"
     ]
    }
   ],
   "source": [
    "a = array([50, 100, 150, 200])\n",
    "print(a)\n",
    "b = array([1, 2, 4, 8])\n",
    "print(b)\n",
    "c = a / b\n",
    "print(c)"
   ]
  },
  {
   "cell_type": "code",
   "execution_count": 6,
   "metadata": {},
   "outputs": [
    {
     "name": "stdout",
     "output_type": "stream",
     "text": [
      "[10 20 30 40]\n",
      "[1 2 3 4]\n",
      "300\n"
     ]
    }
   ],
   "source": [
    "a = array([10, 20, 30, 40])\n",
    "print(a)\n",
    "b = array([1, 2, 3, 4])\n",
    "print(b)\n",
    "c = a.dot(b)\n",
    "print(c)"
   ]
  },
  {
   "cell_type": "code",
   "execution_count": 7,
   "metadata": {},
   "outputs": [
    {
     "name": "stdout",
     "output_type": "stream",
     "text": [
      "[100 200 300 400 500]\n",
      "2\n",
      "[ 200  400  600  800 1000]\n"
     ]
    }
   ],
   "source": [
    "a = array([100, 200, 300, 400, 500])\n",
    "print(a)\n",
    "s = 2\n",
    "print(s)\n",
    "c = s * a\n",
    "print(c)"
   ]
  },
  {
   "cell_type": "markdown",
   "metadata": {},
   "source": [
    "<b> Matrices Operations </b>"
   ]
  },
  {
   "cell_type": "code",
   "execution_count": 8,
   "metadata": {},
   "outputs": [
    {
     "name": "stdout",
     "output_type": "stream",
     "text": [
      "[[10 20]\n",
      " [30 40]\n",
      " [50 60]]\n"
     ]
    }
   ],
   "source": [
    "A = array([[10, 20], [30, 40], [50, 60]])\n",
    "print(A)"
   ]
  },
  {
   "cell_type": "code",
   "execution_count": 9,
   "metadata": {},
   "outputs": [
    {
     "name": "stdout",
     "output_type": "stream",
     "text": [
      "[[10 20 30 40]\n",
      " [50 60 70 80]]\n",
      "[[10 20 30 40]\n",
      " [50 60 70 80]]\n",
      "[[ 20  40  60  80]\n",
      " [100 120 140 160]]\n"
     ]
    }
   ],
   "source": [
    "A = array([\n",
    "[10, 20, 30, 40],\n",
    "[50, 60, 70, 80]])\n",
    "print(A)\n",
    "B = array([\n",
    "[10, 20, 30, 40],\n",
    "[50, 60, 70, 80]])\n",
    "print(B)\n",
    "C = A + B\n",
    "print(C)"
   ]
  },
  {
   "cell_type": "code",
   "execution_count": 10,
   "metadata": {},
   "outputs": [
    {
     "name": "stdout",
     "output_type": "stream",
     "text": [
      "[[10 20 30 40]\n",
      " [50 60 70 80]]\n",
      "[[10 20 30 40]\n",
      " [50 60 70 80]]\n",
      "[[0 0 0 0]\n",
      " [0 0 0 0]]\n"
     ]
    }
   ],
   "source": [
    "A = array([\n",
    "[10, 20, 30, 40],\n",
    "[50, 60, 70, 80]])\n",
    "print(A)\n",
    "B = array([\n",
    "[10, 20, 30, 40],\n",
    "[50, 60, 70, 80]])\n",
    "print(B)\n",
    "C = A - B\n",
    "print(C)"
   ]
  },
  {
   "cell_type": "code",
   "execution_count": 11,
   "metadata": {},
   "outputs": [
    {
     "name": "stdout",
     "output_type": "stream",
     "text": [
      "[[10 20 30 40]\n",
      " [50 60 70 80]]\n",
      "[[10 20 30 40]\n",
      " [50 60 70 80]]\n",
      "[[ 100  400  900 1600]\n",
      " [2500 3600 4900 6400]]\n"
     ]
    }
   ],
   "source": [
    "A = array([\n",
    "[10, 20, 30, 40],\n",
    "[50, 60, 70, 80]])\n",
    "print(A)\n",
    "B = array([\n",
    "[10, 20, 30, 40],\n",
    "[50, 60, 70, 80]])\n",
    "print(B)\n",
    "C = A * B\n",
    "print(C)"
   ]
  },
  {
   "cell_type": "code",
   "execution_count": 12,
   "metadata": {},
   "outputs": [
    {
     "name": "stdout",
     "output_type": "stream",
     "text": [
      "[[10 20 30 40]\n",
      " [50 60 70 80]]\n",
      "[[10 20 30 40]\n",
      " [50 60 70 80]]\n",
      "[[1. 1. 1. 1.]\n",
      " [1. 1. 1. 1.]]\n"
     ]
    }
   ],
   "source": [
    "A = array([\n",
    "[10, 20, 30, 40],\n",
    "[50, 60, 70, 80]])\n",
    "print(A)\n",
    "B = array([\n",
    "[10, 20, 30, 40],\n",
    "[50, 60, 70, 80]])\n",
    "print(B)\n",
    "C = A / B\n",
    "print(C)"
   ]
  },
  {
   "cell_type": "code",
   "execution_count": 13,
   "metadata": {},
   "outputs": [
    {
     "name": "stdout",
     "output_type": "stream",
     "text": [
      "[[1 2 3]\n",
      " [4 5 6]\n",
      " [7 8 9]]\n",
      "[[1 2]\n",
      " [3 4]\n",
      " [5 6]]\n",
      "[[ 22  28]\n",
      " [ 49  64]\n",
      " [ 76 100]]\n",
      "[[ 22  28]\n",
      " [ 49  64]\n",
      " [ 76 100]]\n"
     ]
    }
   ],
   "source": [
    "A = array([\n",
    "[1, 2, 3],\n",
    "[4, 5, 6],\n",
    "[7, 8, 9]])\n",
    "print(A)\n",
    "B = array([\n",
    "[1, 2],\n",
    "[3, 4],\n",
    "[5, 6]])\n",
    "print(B)\n",
    "C = A.dot(B)\n",
    "print(C)\n",
    "D = A @ B\n",
    "print(D)"
   ]
  },
  {
   "cell_type": "code",
   "execution_count": 14,
   "metadata": {},
   "outputs": [
    {
     "name": "stdout",
     "output_type": "stream",
     "text": [
      "[[10 20]\n",
      " [30 40]\n",
      " [50 60]]\n",
      "[2 2]\n",
      "[ 60 140 220]\n"
     ]
    }
   ],
   "source": [
    "A = array([\n",
    "[10, 20],\n",
    "[30, 40],\n",
    "[50, 60]])\n",
    "print(A)\n",
    "B = array([2, 2])\n",
    "print(B)\n",
    "C = A.dot(B)\n",
    "print(C)"
   ]
  },
  {
   "cell_type": "code",
   "execution_count": 15,
   "metadata": {},
   "outputs": [
    {
     "name": "stdout",
     "output_type": "stream",
     "text": [
      "[[1 2]\n",
      " [3 4]\n",
      " [5 6]]\n",
      "3\n",
      "[[ 3  6]\n",
      " [ 9 12]\n",
      " [15 18]]\n"
     ]
    }
   ],
   "source": [
    "A = array([[1, 2], [3, 4], [5, 6]])\n",
    "print(A)\n",
    "b = 3\n",
    "print(b)\n",
    "C = A * b\n",
    "print(C)"
   ]
  },
  {
   "cell_type": "code",
   "execution_count": null,
   "metadata": {},
   "outputs": [],
   "source": []
  }
 ],
 "metadata": {
  "kernelspec": {
   "display_name": "Python 3",
   "language": "python",
   "name": "python3"
  },
  "language_info": {
   "codemirror_mode": {
    "name": "ipython",
    "version": 3
   },
   "file_extension": ".py",
   "mimetype": "text/x-python",
   "name": "python",
   "nbconvert_exporter": "python",
   "pygments_lexer": "ipython3",
   "version": "3.7.6"
  }
 },
 "nbformat": 4,
 "nbformat_minor": 5
}
