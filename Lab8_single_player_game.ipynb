{
 "cells": [
  {
   "cell_type": "markdown",
   "metadata": {},
   "source": [
    "## Lab 8: Write a Python script to implement single player game."
   ]
  },
  {
   "cell_type": "code",
   "execution_count": 1,
   "metadata": {},
   "outputs": [
    {
     "name": "stdout",
     "output_type": "stream",
     "text": [
      "#------------------#\n",
      "| GUESS THE NUMBER |\n",
      "#------------------#\n",
      "\n",
      "\n",
      "Range of Random Numbers.\n",
      "Enter Starting Index: 1\n",
      "Enter Ending Index: 10\n",
      "\n",
      "\n",
      "Guess the number:  2\n",
      "\n",
      "Hmmm, try a lower number...\n",
      "\n",
      "Guess the number:  1\n",
      "Right on! Well done!\n"
     ]
    }
   ],
   "source": [
    "import random\n",
    "print(\"#------------------#\")\n",
    "print(\"| GUESS THE NUMBER |\")\n",
    "print(\"#------------------#\")\n",
    "print('\\n')\n",
    "\n",
    "print('Range of Random Numbers.')\n",
    "start = int(input('Enter Starting Index: '))\n",
    "end = int(input('Enter Ending Index: '))\n",
    "number = random.randint(start, end)\n",
    "print('\\n')\n",
    "\n",
    "while True:\n",
    "    guess = int(input('Guess the number:  '))\n",
    "    if guess > number:\n",
    "        print('\\nHmmm, try a lower number...\\n')\n",
    "\n",
    "    elif guess < number:\n",
    "        print('\\nGo a little higher\\n')\n",
    "\n",
    "    else:\n",
    "        print(\"Right on! Well done!\")\n",
    "        break"
   ]
  },
  {
   "cell_type": "code",
   "execution_count": null,
   "metadata": {},
   "outputs": [],
   "source": []
  }
 ],
 "metadata": {
  "kernelspec": {
   "display_name": "Python 3",
   "language": "python",
   "name": "python3"
  },
  "language_info": {
   "codemirror_mode": {
    "name": "ipython",
    "version": 3
   },
   "file_extension": ".py",
   "mimetype": "text/x-python",
   "name": "python",
   "nbconvert_exporter": "python",
   "pygments_lexer": "ipython3",
   "version": "3.7.6"
  }
 },
 "nbformat": 4,
 "nbformat_minor": 5
}
